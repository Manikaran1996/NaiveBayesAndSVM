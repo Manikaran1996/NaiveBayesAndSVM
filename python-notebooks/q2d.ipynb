{
 "cells": [
  {
   "cell_type": "code",
   "execution_count": 1,
   "metadata": {},
   "outputs": [],
   "source": [
    "from svmutil import *\n",
    "from random import shuffle"
   ]
  },
  {
   "cell_type": "code",
   "execution_count": 1,
   "metadata": {},
   "outputs": [],
   "source": [
    "# params\n",
    "k = 10\n",
    "g = 0.05\n",
    "C = [0.00001, 0.001, 1, 5, 10]"
   ]
  },
  {
   "cell_type": "code",
   "execution_count": 5,
   "metadata": {},
   "outputs": [],
   "source": [
    "# data\n",
    "trainFileScaled = '/home/manikaran/Assignment2/mnist/trainLibSVMScaled.txt'\n",
    "testFileScaled = '/home/manikaran/Assignment2/mnist/testLibSVMScaled.txt'\n",
    "yTrain, xTrain = svm_read_problem(trainFileScaled)"
   ]
  },
  {
   "cell_type": "code",
   "execution_count": 7,
   "metadata": {},
   "outputs": [
    {
     "name": "stdout",
     "output_type": "stream",
     "text": [
      "Cross Validation Accuracy = 71.555%\n"
     ]
    }
   ],
   "source": [
    "result = []\n",
    "problem = svm_problem(yTrain,xTrain)\n",
    "paramString = '-t 2 -c {} -g {} -v 10'.format(C[0], g)\n",
    "parameter = svm_parameter(paramString)\n",
    "#print(len(y), len(x))\n",
    "result.append(svm_train(problem,parameter))"
   ]
  },
  {
   "cell_type": "code",
   "execution_count": 8,
   "metadata": {},
   "outputs": [
    {
     "name": "stdout",
     "output_type": "stream",
     "text": [
      "Cross Validation Accuracy = 71.54%\n"
     ]
    }
   ],
   "source": [
    "paramString = '-t 2 -c {} -g {} -v 10'.format(C[1], g)\n",
    "parameter = svm_parameter(paramString)\n",
    "#print(len(y), len(x))\n",
    "result.append(svm_train(problem,parameter))"
   ]
  },
  {
   "cell_type": "code",
   "execution_count": 9,
   "metadata": {},
   "outputs": [
    {
     "name": "stdout",
     "output_type": "stream",
     "text": [
      "Cross Validation Accuracy = 97.4%\n"
     ]
    }
   ],
   "source": [
    "paramString = '-t 2 -c {} -g {} -v 10'.format(C[2], g)\n",
    "parameter = svm_parameter(paramString)\n",
    "#print(len(y), len(x))\n",
    "result.append(svm_train(problem,parameter))"
   ]
  },
  {
   "cell_type": "code",
   "execution_count": 10,
   "metadata": {},
   "outputs": [
    {
     "name": "stdout",
     "output_type": "stream",
     "text": [
      "Cross Validation Accuracy = 97.535%\n"
     ]
    }
   ],
   "source": [
    "paramString = '-t 2 -c {} -g {} -v 10'.format(C[3], g)\n",
    "parameter = svm_parameter(paramString)\n",
    "#print(len(y), len(x))\n",
    "result.append(svm_train(problem,parameter))"
   ]
  },
  {
   "cell_type": "code",
   "execution_count": 11,
   "metadata": {},
   "outputs": [
    {
     "name": "stdout",
     "output_type": "stream",
     "text": [
      "Cross Validation Accuracy = 97.46%\n"
     ]
    }
   ],
   "source": [
    "paramString = '-t 2 -c {} -g {} -v 10'.format(C[4], g)\n",
    "parameter = svm_parameter(paramString)\n",
    "#print(len(y), len(x))\n",
    "result.append(svm_train(problem,parameter))"
   ]
  },
  {
   "cell_type": "code",
   "execution_count": 12,
   "metadata": {},
   "outputs": [],
   "source": [
    "with open('ouput.txt', 'w') as fout:\n",
    "    for x in result:\n",
    "        print(x, file=fout)"
   ]
  },
  {
   "cell_type": "code",
   "execution_count": 15,
   "metadata": {},
   "outputs": [
    {
     "name": "stdout",
     "output_type": "stream",
     "text": [
      "Accuracy = 72.1% (7210/10000) (classification)\n",
      "Accuracy = 72.1% (7210/10000) (classification)\n",
      "Accuracy = 97.23% (9723/10000) (classification)\n",
      "Accuracy = 97.29% (9729/10000) (classification)\n",
      "Accuracy = 97.29% (9729/10000) (classification)\n"
     ]
    }
   ],
   "source": [
    "models = []\n",
    "acc = []\n",
    "yTest, xTest = svm_read_problem(testFileScaled)\n",
    "problem = svm_problem(yTrain,xTrain)\n",
    "for c in C:\n",
    "    paramString = '-t 2 -c {} -g {}'.format(c, g)\n",
    "    parameter = svm_parameter(paramString)\n",
    "    model = svm_train(problem,parameter)\n",
    "    models.append(model)\n",
    "    z = svm_predict(yTest, xTest, model)\n",
    "    acc.append(z)\n",
    "    "
   ]
  },
  {
   "cell_type": "code",
   "execution_count": 22,
   "metadata": {},
   "outputs": [],
   "source": [
    "import os\n",
    "path = '/home/manikaran/Assignment2/q2d2/'\n",
    "for i in range(5):\n",
    "    os.makedirs(path + 'C_{}'.format(C[i]))"
   ]
  },
  {
   "cell_type": "code",
   "execution_count": 23,
   "metadata": {},
   "outputs": [],
   "source": [
    "for i in range(len(C)):\n",
    "    svm_save_model(path + 'C_{}/model'.format(C[i]), models[i])"
   ]
  },
  {
   "cell_type": "code",
   "execution_count": 4,
   "metadata": {},
   "outputs": [
    {
     "data": {
      "text/plain": [
       "<matplotlib.figure.Figure at 0x7fe244057c18>"
      ]
     },
     "metadata": {},
     "output_type": "display_data"
    }
   ],
   "source": [
    "C = [0.00001, 0.001, 1, 5, 10]\n",
    "import matplotlib.pyplot as plt\n",
    "import math\n",
    "validationSetAccuracy = [71.555, 71.54, 97.4, 97.535, 97.46] \n",
    "testSetAccuracy = [72.1, 72.1, 97.23, 97.29, 97.29]\n",
    "C = list(map(lambda x: math.log(x), C))\n",
    "plt.figure()\n",
    "plt.plot(C, validationSetAccuracy)\n",
    "plt.plot(C, testSetAccuracy)\n",
    "plt.show()"
   ]
  },
  {
   "cell_type": "code",
   "execution_count": null,
   "metadata": {},
   "outputs": [],
   "source": []
  }
 ],
 "metadata": {
  "kernelspec": {
   "display_name": "Python 3",
   "language": "python",
   "name": "python3"
  },
  "language_info": {
   "codemirror_mode": {
    "name": "ipython",
    "version": 3
   },
   "file_extension": ".py",
   "mimetype": "text/x-python",
   "name": "python",
   "nbconvert_exporter": "python",
   "pygments_lexer": "ipython3",
   "version": "3.5.2"
  }
 },
 "nbformat": 4,
 "nbformat_minor": 2
}
