{
 "cells": [
  {
   "cell_type": "code",
   "execution_count": 1,
   "metadata": {
    "scrolled": true
   },
   "outputs": [],
   "source": [
    "from svmutil import *"
   ]
  },
  {
   "cell_type": "code",
   "execution_count": 8,
   "metadata": {},
   "outputs": [],
   "source": [
    "trainFile = '/home/manikaran/M.tech/MachineLearning/Assignment2/mnist/trainLibSVMScaled.txt'\n",
    "testFile = '/home/manikaran/M.tech/MachineLearning/Assignment2/mnist/testLibSVMScaled.txt'"
   ]
  },
  {
   "cell_type": "code",
   "execution_count": 9,
   "metadata": {},
   "outputs": [],
   "source": [
    "y,x = svm_read_problem(trainFile)"
   ]
  },
  {
   "cell_type": "code",
   "execution_count": 5,
   "metadata": {
    "scrolled": true
   },
   "outputs": [
    {
     "name": "stdout",
     "output_type": "stream",
     "text": [
      "<class 'list'>\n",
      "<class 'list'>\n",
      "20000\n",
      "20000\n",
      "{716: 254.0, 261: 50.0, 519: 134.0, 520: 251.0, 521: 54.0, 266: 6.0, 267: 42.0, 268: 164.0, 269: 252.0, 270: 113.0, 745: 116.0, 687: 94.0, 688: 248.0, 717: 94.0, 547: 134.0, 548: 222.0, 689: 47.0, 296: 32.0, 297: 254.0, 298: 117.0, 575: 134.0, 576: 222.0, 324: 32.0, 325: 254.0, 326: 79.0, 463: 102.0, 603: 134.0, 604: 222.0, 352: 66.0, 353: 254.0, 354: 94.0, 743: 29.0, 744: 238.0, 659: 146.0, 631: 184.0, 632: 222.0, 660: 222.0, 380: 150.0, 381: 241.0, 382: 23.0, 235: 103.0, 236: 103.0, 237: 190.0, 401: 61.0, 402: 72.0, 403: 104.0, 404: 72.0, 405: 128.0, 406: 161.0, 407: 161.0, 408: 238.0, 409: 241.0, 410: 134.0, 411: 72.0, 412: 72.0, 413: 47.0, 414: 10.0, 210: 234.0, 428: 129.0, 429: 251.0, 430: 254.0, 431: 254.0, 432: 254.0, 433: 254.0, 434: 254.0, 435: 254.0, 436: 254.0, 437: 254.0, 438: 254.0, 439: 235.0, 440: 195.0, 441: 230.0, 442: 181.0, 443: 35.0, 715: 45.0, 456: 17.0, 457: 31.0, 458: 31.0, 459: 31.0, 460: 31.0, 461: 31.0, 206: 255.0, 205: 254.0, 208: 254.0, 209: 254.0, 466: 31.0, 211: 149.0, 212: 40.0, 462: 31.0, 207: 254.0, 464: 254.0, 465: 81.0, 232: 105.0, 233: 222.0, 234: 103.0, 491: 56.0, 492: 243.0, 493: 38.0, 238: 205.0, 239: 254.0, 240: 248.0, 241: 193.0, 467: 21.0, 204: 139.0, 469: 22.0} 7.0\n"
     ]
    }
   ],
   "source": [
    "print(type(y))\n",
    "print(type(x))\n",
    "print(len(y))\n",
    "print(len(x))\n",
    "print(x[0], y[0])"
   ]
  },
  {
   "cell_type": "code",
   "execution_count": 10,
   "metadata": {},
   "outputs": [],
   "source": [
    "''' struct svm_problem describes the problem:\n",
    "\n",
    "    struct svm_problem\n",
    "    {\n",
    "        int l;\n",
    "        double *y;\n",
    "        struct svm_node **x;\n",
    "    };\n",
    "    \n",
    "    where `l' is the number of training data, and `y' is an array containing\n",
    "    their target values. (integers in classification, real numbers in\n",
    "    regression) `x' is an array of pointers, each of which points to a sparse\n",
    "    representation (array of svm_node) of one training vector.'''\n",
    "\n",
    "problem = svm_problem(y,x)"
   ]
  },
  {
   "cell_type": "code",
   "execution_count": 11,
   "metadata": {},
   "outputs": [],
   "source": [
    "''' struct svm_parameter describes the parameters of an SVM model \n",
    "options:\n",
    "-s svm_type : set type of SVM (default 0)\n",
    "    0 -- C-SVC\n",
    "    1 -- nu-SVC''\n",
    "    2 -- one-class SVM\n",
    "    3 -- epsilon-SVR\n",
    "    4 -- nu-SVR\n",
    "-t kernel_type : set type of kernel function (default 2)\n",
    "    0 -- linear: u'*v\n",
    "    1 -- polynomial: (gamma*u'*v + coef0)^degree\n",
    "    2 -- radial basis function: exp(-gamma*|u-v|^2)\n",
    "    3 -- sigmoid: tanh(gamma*u'*v + coef0)\n",
    "-d degree : set degree in kernel function (default 3)\n",
    "-g gamma : set gamma in kernel function (default 1/num_features)\n",
    "-r coef0 : set coef0 in kernel function (default 0)\n",
    "-c cost : set the parameter C of C-SVC, epsilon-SVR, and nu-SVR (default 1)\n",
    "-n nu : set the parameter nu of nu-SVC, one-class SVM, and nu-SVR (default 0.5)\n",
    "-p epsilon : set the epsilon in loss function of epsilon-SVR (default 0.1)\n",
    "-m cachesize : set cache memory size in MB (default 100)\n",
    "-e epsilon : set tolerance of termination criterion (default 0.001)\n",
    "-h shrinking: whether to use the shrinking heuristics, 0 or 1 (default 1)\n",
    "-b probability_estimates: whether to train a SVC or SVR model for probability estimates, 0 or 1 (default 0)\n",
    "-wi weight: set the parameter C of class i to weight*C, for C-SVC (default 1)\n",
    "'''\n",
    "param = svm_parameter('-t 0 -c 1 -g 0.05')"
   ]
  },
  {
   "cell_type": "code",
   "execution_count": 12,
   "metadata": {},
   "outputs": [],
   "source": [
    "'''Function: struct svm_model *svm_train(const struct svm_problem *prob,\n",
    "                                const struct svm_parameter *param);\n",
    "            \n",
    "    This function constructs and returns an SVM model according to\n",
    "    the given training data and parameters.\n",
    "    \n",
    "    struct svm_model stores the model obtained from the training procedure.\n",
    "'''\n",
    "\n",
    "model = svm_train(problem,param)\n"
   ]
  },
  {
   "cell_type": "code",
   "execution_count": 13,
   "metadata": {},
   "outputs": [
    {
     "name": "stdout",
     "output_type": "stream",
     "text": [
      "Accuracy = 92.76% (9276/10000) (classification)\n"
     ]
    }
   ],
   "source": [
    "''' Function: double svm_predict(const struct svm_model *model,\n",
    "                               const struct svm_node *x);\n",
    "\n",
    "    This function does classification or regression on a test vector x\n",
    "    given a model. '''\n",
    "svm_save_model('linearModel', model)\n",
    "yTest,xTest = svm_read_problem(testFile)\n",
    "predicted = svm_predict(yTest, xTest, model)"
   ]
  },
  {
   "cell_type": "code",
   "execution_count": 13,
   "metadata": {},
   "outputs": [
    {
     "name": "stdout",
     "output_type": "stream",
     "text": [
      "<class 'tuple'>\n"
     ]
    }
   ],
   "source": [
    "print(type(predicted))"
   ]
  },
  {
   "cell_type": "code",
   "execution_count": 17,
   "metadata": {},
   "outputs": [],
   "source": [
    "trainFileScaled = '/home/manikaran/M.tech/MachineLearning/Assignment2/mnist/trainLibSVMScaled.txt'\n",
    "testFileScaled = '/home/manikaran/M.tech/MachineLearning/Assignment2/mnist/testLibSVMScaled.txt'\n"
   ]
  },
  {
   "cell_type": "code",
   "execution_count": 18,
   "metadata": {},
   "outputs": [
    {
     "name": "stdout",
     "output_type": "stream",
     "text": [
      "Accuracy = 97.23% (9723/10000) (classification)\n"
     ]
    }
   ],
   "source": [
    "yScaled,xScaled = svm_read_problem(trainFileScaled)\n",
    "problemScaled = svm_problem(yScaled,xScaled)\n",
    "paramScaled = svm_parameter('-t 2 -c 1 -g 0.05')\n",
    "modelGaussianScaled = svm_train(problemScaled, paramScaled)\n",
    "yTestScaled,xTestScaled = svm_read_problem(testFileScaled)\n",
    "predictedScaled = svm_predict(yTestScaled, xTestScaled, modelGaussianScaled)"
   ]
  },
  {
   "cell_type": "code",
   "execution_count": 25,
   "metadata": {},
   "outputs": [],
   "source": [
    "a,b,c = predictedScaled"
   ]
  },
  {
   "cell_type": "code",
   "execution_count": null,
   "metadata": {},
   "outputs": [],
   "source": []
  },
  {
   "cell_type": "code",
   "execution_count": null,
   "metadata": {},
   "outputs": [],
   "source": []
  }
 ],
 "metadata": {
  "kernelspec": {
   "display_name": "Python 3",
   "language": "python",
   "name": "python3"
  },
  "language_info": {
   "codemirror_mode": {
    "name": "ipython",
    "version": 3
   },
   "file_extension": ".py",
   "mimetype": "text/x-python",
   "name": "python",
   "nbconvert_exporter": "python",
   "pygments_lexer": "ipython3",
   "version": "3.5.2"
  }
 },
 "nbformat": 4,
 "nbformat_minor": 2
}
