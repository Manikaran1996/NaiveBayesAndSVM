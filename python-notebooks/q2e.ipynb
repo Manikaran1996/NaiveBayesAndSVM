{
 "cells": [
  {
   "cell_type": "code",
   "execution_count": 6,
   "metadata": {},
   "outputs": [],
   "source": [
    "from svmutil import *\n",
    "import numpy\n",
    "import matplotlib.pyplot as plt"
   ]
  },
  {
   "cell_type": "code",
   "execution_count": 7,
   "metadata": {},
   "outputs": [],
   "source": [
    "trainFileScaled = '/home/manikaran/M.tech/MachineLearning/Assignment2/mnist/trainLibSVMScaled.txt'\n",
    "testFileScaled = '/home/manikaran/M.tech/MachineLearning/Assignment2/mnist/testLibSVMScaled.txt'"
   ]
  },
  {
   "cell_type": "code",
   "execution_count": 8,
   "metadata": {},
   "outputs": [],
   "source": [
    "yTrain, xTrain = svm_read_problem(trainFileScaled)"
   ]
  },
  {
   "cell_type": "code",
   "execution_count": 9,
   "metadata": {},
   "outputs": [],
   "source": [
    "problem = svm_problem(yTrain, xTrain)\n",
    "paramString = '-t 2 -g 0.05 -c 5'\n",
    "params = svm_parameter(paramString)\n",
    "model = svm_train(problem, params)"
   ]
  },
  {
   "cell_type": "code",
   "execution_count": 39,
   "metadata": {},
   "outputs": [
    {
     "name": "stdout",
     "output_type": "stream",
     "text": [
      "Accuracy = 97.29% (9729/10000) (classification)\n"
     ]
    }
   ],
   "source": [
    "yTest, xTest = svm_read_problem(testFileScaled)\n",
    "(label, acc, vals) = svm_predict(yTest, xTest, model)"
   ]
  },
  {
   "cell_type": "code",
   "execution_count": 70,
   "metadata": {},
   "outputs": [
    {
     "name": "stdout",
     "output_type": "stream",
     "text": [
      "None\n"
     ]
    }
   ],
   "source": [
    "print(svm_save_model('trainedModelq2e', model))"
   ]
  },
  {
   "cell_type": "code",
   "execution_count": 69,
   "metadata": {},
   "outputs": [
    {
     "name": "stdout",
     "output_type": "stream",
     "text": [
      "271\n"
     ]
    }
   ],
   "source": [
    "from functools import reduce\n",
    "print(reduce(lambda x,y: x+y , [reduce(lambda x,y: x+y, wrongPredictionMatrix[i]) for i in range(10)]))"
   ]
  },
  {
   "cell_type": "code",
   "execution_count": 11,
   "metadata": {},
   "outputs": [
    {
     "name": "stdout",
     "output_type": "stream",
     "text": [
      "Type of label :  <class 'list'>\n",
      "Type of yTest :  <class 'list'>\n"
     ]
    }
   ],
   "source": [
    "print(\"Type of label : \", type(label))\n",
    "print(\"Type of yTest : \", type(yTest))"
   ]
  },
  {
   "cell_type": "code",
   "execution_count": 22,
   "metadata": {},
   "outputs": [
    {
     "name": "stdout",
     "output_type": "stream",
     "text": [
      "Number of wrong predictions =  271\n"
     ]
    }
   ],
   "source": [
    "with open('/home/manikaran/M.tech/MachineLearning/Assignment2/mnist/test.csv','r') as testImageVectors:\n",
    "    imageVectors = numpy.loadtxt(testImageVectors, delimiter=',' , dtype=int)\n",
    "    wrongPredictions = []\n",
    "    featureXOfWrongPredictions = []\n",
    "    count = 0\n",
    "    labelIndex = imageVectors.shape[1]-1\n",
    "    for i in range(len(label)):\n",
    "        if yTest[i] != label[i]:\n",
    "            count += 1\n",
    "            wrongPredictions.append((yTest[i], label[i]))\n",
    "            featureXOfWrongPredictions.append(imageVectors[i, :labelIndex])\n",
    "    print(\"Number of wrong predictions = \", count)"
   ]
  },
  {
   "cell_type": "code",
   "execution_count": 23,
   "metadata": {},
   "outputs": [
    {
     "name": "stdout",
     "output_type": "stream",
     "text": [
      "0 , [0, 0, 1, 0, 0, 3, 4, 1, 2, 0]\n",
      "1 , [0, 0, 3, 2, 1, 2, 2, 0, 2, 1]\n",
      "2 , [4, 0, 0, 4, 2, 0, 1, 6, 15, 0]\n",
      "3 , [0, 0, 8, 0, 0, 4, 0, 7, 5, 1]\n",
      "4 , [1, 0, 4, 0, 0, 0, 5, 0, 2, 8]\n",
      "5 , [2, 0, 3, 6, 1, 0, 7, 1, 5, 1]\n",
      "6 , [5, 4, 0, 0, 3, 4, 0, 0, 2, 0]\n",
      "7 , [1, 4, 20, 2, 3, 0, 0, 0, 2, 10]\n",
      "8 , [4, 0, 3, 10, 1, 5, 3, 3, 0, 3]\n",
      "9 , [4, 4, 3, 8, 9, 4, 0, 9, 11, 0]\n"
     ]
    }
   ],
   "source": [
    "wrongPredictionMatrix = [[0]*10 for i in range(10)]\n",
    "for (r,c) in wrongPredictions:\n",
    "    wrongPredictionMatrix[int(r)][int(c)] += 1\n",
    "for i in range(10):\n",
    "    print(i, ',',  wrongPredictionMatrix[i])"
   ]
  },
  {
   "cell_type": "code",
   "execution_count": 53,
   "metadata": {},
   "outputs": [],
   "source": [
    "# digit 7 is wrongly predicted as 2 - 20 times\n",
    "# digit 2 is wrongly predicted as 9 - 15 times\n",
    "# x is a feature in libSVM format\n",
    "def createFeatureVector(x, length):\n",
    "    feature = numpy.zeros((1,length), dtype=int)\n",
    "    for ind in x:\n",
    "        feature[0,ind] = int(x[ind])\n",
    "    feature.resize(28,28)\n",
    "    print(feature)\n",
    "    return feature "
   ]
  },
  {
   "cell_type": "code",
   "execution_count": 45,
   "metadata": {},
   "outputs": [],
   "source": [
    "plotMe = []\n",
    "for i,(actual, test) in enumerate(wrongPredictions):\n",
    "    if test == 8 and actual == 2:\n",
    "        plotMe.append((test,actual,featureXOfWrongPredictions[i]))\n",
    "    elif test == 2 and actual == 7:\n",
    "        plotMe.append((test,actual,featureXOfWrongPredictions[i]))\n"
   ]
  },
  {
   "cell_type": "code",
   "execution_count": 46,
   "metadata": {},
   "outputs": [
    {
     "name": "stdout",
     "output_type": "stream",
     "text": [
      "35\n"
     ]
    }
   ],
   "source": [
    "print(len(plotMe))"
   ]
  },
  {
   "cell_type": "code",
   "execution_count": 28,
   "metadata": {},
   "outputs": [
    {
     "data": {
      "text/plain": [
       "<matplotlib.image.AxesImage at 0x7fbc021fe9b0>"
      ]
     },
     "execution_count": 28,
     "metadata": {},
     "output_type": "execute_result"
    },
    {
     "data": {
      "image/png": "[encoded data removed]",
      "text/plain": [
       "<matplotlib.figure.Figure at 0x7fbc01d20320>"
      ]
     },
     "metadata": {},
     "output_type": "display_data"
    }
   ],
   "source": [
    "plt.title('Predicted : ' + str(plotMe[0][0]) + \" Actual : \" + str(plotMe[0][1]))\n",
    "plt.imshow(plotMe[0][2].reshape(28,28))"
   ]
  },
  {
   "cell_type": "code",
   "execution_count": 47,
   "metadata": {},
   "outputs": [
    {
     "data": {
      "text/plain": [
       "<matplotlib.image.AxesImage at 0x7fbbed7313c8>"
      ]
     },
     "execution_count": 47,
     "metadata": {},
     "output_type": "execute_result"
    },
    {
     "data": {
      "image/png": "[encoded data removed]",
      "text/plain": [
       "<matplotlib.figure.Figure at 0x7fbbed711908>"
      ]
     },
     "metadata": {},
     "output_type": "display_data"
    }
   ],
   "source": [
    "plt.title('Predicted : ' + str(plotMe[1][0]) + \" Actual : \" + str(plotMe[1][1]))\n",
    "plt.imshow(plotMe[1][2].reshape(28,28))"
   ]
  },
  {
   "cell_type": "code",
   "execution_count": 48,
   "metadata": {},
   "outputs": [
    {
     "data": {
      "text/plain": [
       "<matplotlib.image.AxesImage at 0x7fbbe8981080>"
      ]
     },
     "execution_count": 48,
     "metadata": {},
     "output_type": "execute_result"
    },
    {
     "data": {
      "image/png": "[encoded data removed]",
      "text/plain": [
       "<matplotlib.figure.Figure at 0x7fbbed735c88>"
      ]
     },
     "metadata": {},
     "output_type": "display_data"
    }
   ],
   "source": [
    "plt.title('Predicted : ' + str(plotMe[2][0]) + \" Actual : \" + str(plotMe[2][1]))\n",
    "plt.imshow(plotMe[2][2].reshape(28,28))"
   ]
  },
  {
   "cell_type": "code",
   "execution_count": 49,
   "metadata": {},
   "outputs": [
    {
     "data": {
      "text/plain": [
       "<matplotlib.image.AxesImage at 0x7fbbe7b69e80>"
      ]
     },
     "execution_count": 49,
     "metadata": {},
     "output_type": "execute_result"
    },
    {
     "data": {
      "image/png": "[encoded data removed]",
      "text/plain": [
       "<matplotlib.figure.Figure at 0x7fbbed711208>"
      ]
     },
     "metadata": {},
     "output_type": "display_data"
    }
   ],
   "source": [
    "plt.title('Predicted : ' + str(plotMe[3][0]) + \" Actual : \" + str(plotMe[3][1]))\n",
    "plt.imshow(plotMe[3][2].reshape(28,28))"
   ]
  },
  {
   "cell_type": "code",
   "execution_count": 32,
   "metadata": {},
   "outputs": [
    {
     "data": {
      "text/plain": [
       "<matplotlib.image.AxesImage at 0x7fbbed6aa390>"
      ]
     },
     "execution_count": 32,
     "metadata": {},
     "output_type": "execute_result"
    },
    {
     "data": {
      "image/png": "[encoded data removed]",
      "text/plain": [
       "<matplotlib.figure.Figure at 0x7fbbed81fdd8>"
      ]
     },
     "metadata": {},
     "output_type": "display_data"
    }
   ],
   "source": [
    "plt.title('Predicted : ' + str(plotMe[4][0]) + \" Actual : \" + str(plotMe[4][1]))\n",
    "plt.imshow(plotMe[4][2].reshape(28,28))"
   ]
  },
  {
   "cell_type": "code",
   "execution_count": 36,
   "metadata": {},
   "outputs": [
    {
     "data": {
      "text/plain": [
       "<matplotlib.image.AxesImage at 0x7fbc063cdcc0>"
      ]
     },
     "execution_count": 36,
     "metadata": {},
     "output_type": "execute_result"
    },
    {
     "data": {
      "image/png": "[encoded data removed]",
      "text/plain": [
       "<matplotlib.figure.Figure at 0x7fbc06409550>"
      ]
     },
     "metadata": {},
     "output_type": "display_data"
    }
   ],
   "source": [
    "plt.title('Predicted : ' + str(wrongPredictions[145][1])  + \" Actual : \" + str(wrongPredictions[145][0]))\n",
    "plt.imshow(featureXOfWrongPredictions[145].reshape(28,28))"
   ]
  },
  {
   "cell_type": "code",
   "execution_count": 23,
   "metadata": {},
   "outputs": [
    {
     "name": "stdout",
     "output_type": "stream",
     "text": [
      "271\n"
     ]
    }
   ],
   "source": [
    "# verification\n",
    "from functools import reduce\n",
    "print(reduce(lambda x,y: x+y , [reduce(lambda x,y: x+y, wrongPredictionMatrix[i]) for i in range(10)]))"
   ]
  },
  {
   "cell_type": "code",
   "execution_count": 67,
   "metadata": {},
   "outputs": [
    {
     "data": {
      "text/plain": [
       "<matplotlib.image.AxesImage at 0x7f22d6d97518>"
      ]
     },
     "execution_count": 67,
     "metadata": {},
     "output_type": "execute_result"
    },
    {
     "data": {
      "image/png": "[encoded data removed]",
      "text/plain": [
       "<matplotlib.figure.Figure at 0x7f22d6cb8cf8>"
      ]
     },
     "metadata": {},
     "output_type": "display_data"
    }
   ],
   "source": [
    "plt.title(str(wrongPredictions[2][0]) + \"  \" + str(wrongPredictions[2][1]))\n",
    "plt.imshow(featureXOfWrongPredictions[2].reshape(28,28))"
   ]
  },
  {
   "cell_type": "code",
   "execution_count": 29,
   "metadata": {},
   "outputs": [
    {
     "name": "stdout",
     "output_type": "stream",
     "text": [
      "[[0, 0, 1, 0, 0, 3, 4, 1, 2, 0], [0, 0, 3, 2, 1, 2, 2, 0, 2, 1], [4, 0, 0, 4, 2, 0, 1, 6, 15, 0], [0, 0, 8, 0, 0, 4, 0, 7, 5, 1], [1, 0, 4, 0, 0, 0, 5, 0, 2, 8], [2, 0, 3, 6, 1, 0, 7, 1, 5, 1], [5, 4, 0, 0, 3, 4, 0, 0, 2, 0], [1, 4, 20, 2, 3, 0, 0, 0, 2, 10], [4, 0, 3, 10, 1, 5, 3, 3, 0, 3], [4, 4, 3, 8, 9, 4, 0, 9, 11, 0]]\n"
     ]
    }
   ],
   "source": [
    "print(wrongPredictionMatrix)"
   ]
  },
  {
   "cell_type": "code",
   "execution_count": 68,
   "metadata": {},
   "outputs": [
    {
     "data": {
      "text/plain": [
       "<matplotlib.image.AxesImage at 0x7f22d97d1780>"
      ]
     },
     "execution_count": 68,
     "metadata": {},
     "output_type": "execute_result"
    },
    {
     "data": {
      "image/png": "[encoded data removed]",
      "text/plain": [
       "<matplotlib.figure.Figure at 0x7f22d6d80630>"
      ]
     },
     "metadata": {},
     "output_type": "display_data"
    }
   ],
   "source": [
    "plt.title(str(wrongPredictions[3][0]) + \"  \" + str(wrongPredictions[3][1]))\n",
    "plt.imshow(featureXOfWrongPredictions[3].reshape(28,28))"
   ]
  },
  {
   "cell_type": "code",
   "execution_count": 23,
   "metadata": {},
   "outputs": [
    {
     "name": "stdout",
     "output_type": "stream",
     "text": [
      "271\n"
     ]
    }
   ],
   "source": [
    "# verification\n",
    "from functools import reduce\n",
    "print(reduce(lambda x,y: x+y , [reduce(lambda x,y: x+y, wrongPredictionMatrix[i]) for i in range(10)]))"
   ]
  },
  {
   "cell_type": "code",
   "execution_count": 14,
   "metadata": {},
   "outputs": [],
   "source": [
    "def generateConfusionMatrix(predictedLabels, originalLabels):\n",
    "    confusionMatrix = [[0]*10 for i in range(10)]\n",
    "    for predicted, original in zip(predictedLabels, originalLabels):\n",
    "        confusionMatrix[int(predicted)][int(original)] += 1\n",
    "    return confusionMatrix"
   ]
  },
  {
   "cell_type": "code",
   "execution_count": 41,
   "metadata": {},
   "outputs": [
    {
     "name": "stdout",
     "output_type": "stream",
     "text": [
      " 969    0    4    0    1    2    5    1    4    4 \n",
      "   0 1122    0    0    0    0    4    4    0    4 \n",
      "   1    3 1000    8    4    3    0   20    3    3 \n",
      "   0    2    4  985    0    6    0    2   10    8 \n",
      "   0    1    2    0  962    1    3    3    1    9 \n",
      "   3    2    0    4    0  866    4    0    5    4 \n",
      "   4    2    1    0    5    7  940    0    3    0 \n",
      "   1    0    6    7    0    1    0  986    3    9 \n",
      "   2    2   15    5    2    5    2    2  942   11 \n",
      "   0    1    0    1    8    1    0   10    3  957 \n"
     ]
    }
   ],
   "source": [
    "confusionMatrix = generateConfusionMatrix(label, yTest)\n",
    "for row in confusionMatrix:\n",
    "    for x in row:\n",
    "        print('{:4}'.format(x), end = ' ')\n",
    "    print()"
   ]
  },
  {
   "cell_type": "code",
   "execution_count": null,
   "metadata": {},
   "outputs": [],
   "source": []
  }
 ],
 "metadata": {
  "kernelspec": {
   "display_name": "Python 3",
   "language": "python",
   "name": "python3"
  },
  "language_info": {
   "codemirror_mode": {
    "name": "ipython",
    "version": 3
   },
   "file_extension": ".py",
   "mimetype": "text/x-python",
   "name": "python",
   "nbconvert_exporter": "python",
   "pygments_lexer": "ipython3",
   "version": "3.5.2"
  }
 },
 "nbformat": 4,
 "nbformat_minor": 2
}
